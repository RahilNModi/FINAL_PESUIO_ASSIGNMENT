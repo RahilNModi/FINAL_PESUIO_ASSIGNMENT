{
 "cells": [
  {
   "cell_type": "code",
   "execution_count": 1,
   "metadata": {},
   "outputs": [],
   "source": [
    "#This binary calssification model is used to predict whether it is going to rain the next day or not\n",
    "#This model works with an accuracy of 77.85%."
   ]
  },
  {
   "cell_type": "code",
   "execution_count": 2,
   "metadata": {},
   "outputs": [
    {
     "name": "stderr",
     "output_type": "stream",
     "text": [
      "Using TensorFlow backend.\n"
     ]
    }
   ],
   "source": [
    "#Importing the required modules for binary classification model\n",
    "import tensorflow as tf\n",
    "import tensorflow.keras as keras\n",
    "import numpy as np\n",
    "import pandas as pd\n",
    "from sklearn.model_selection import train_test_split\n",
    "from keras.utils import to_categorical"
   ]
  },
  {
   "cell_type": "code",
   "execution_count": 3,
   "metadata": {},
   "outputs": [
    {
     "data": {
      "text/plain": [
       "(142241, 24)"
      ]
     },
     "execution_count": 3,
     "metadata": {},
     "output_type": "execute_result"
    }
   ],
   "source": [
    "#We read from our dataset which is cities.csv file\n",
    "#ds stands for dataset\n",
    "ds=pd.read_csv('cities.csv')\n",
    "ds.shape"
   ]
  },
  {
   "cell_type": "code",
   "execution_count": 4,
   "metadata": {},
   "outputs": [
    {
     "data": {
      "text/html": [
       "<div>\n",
       "<style scoped>\n",
       "    .dataframe tbody tr th:only-of-type {\n",
       "        vertical-align: middle;\n",
       "    }\n",
       "\n",
       "    .dataframe tbody tr th {\n",
       "        vertical-align: top;\n",
       "    }\n",
       "\n",
       "    .dataframe thead th {\n",
       "        text-align: right;\n",
       "    }\n",
       "</style>\n",
       "<table border=\"1\" class=\"dataframe\">\n",
       "  <thead>\n",
       "    <tr style=\"text-align: right;\">\n",
       "      <th></th>\n",
       "      <th>Date</th>\n",
       "      <th>Location</th>\n",
       "      <th>MinTemp</th>\n",
       "      <th>MaxTemp</th>\n",
       "      <th>Rainfall</th>\n",
       "      <th>Evaporation</th>\n",
       "      <th>Sunshine</th>\n",
       "      <th>WindGustDir</th>\n",
       "      <th>WindGustSpeed</th>\n",
       "      <th>WindDir9am</th>\n",
       "      <th>...</th>\n",
       "      <th>Humidity3pm</th>\n",
       "      <th>Pressure9am</th>\n",
       "      <th>Pressure3pm</th>\n",
       "      <th>Cloud9am</th>\n",
       "      <th>Cloud3pm</th>\n",
       "      <th>Temp9am</th>\n",
       "      <th>Temp3pm</th>\n",
       "      <th>RainToday</th>\n",
       "      <th>RISK_MM</th>\n",
       "      <th>RainTomorrow</th>\n",
       "    </tr>\n",
       "  </thead>\n",
       "  <tbody>\n",
       "    <tr>\n",
       "      <th>0</th>\n",
       "      <td>2008-12-01</td>\n",
       "      <td>Albury</td>\n",
       "      <td>13.4</td>\n",
       "      <td>22.9</td>\n",
       "      <td>0.6</td>\n",
       "      <td>NaN</td>\n",
       "      <td>NaN</td>\n",
       "      <td>W</td>\n",
       "      <td>44.0</td>\n",
       "      <td>W</td>\n",
       "      <td>...</td>\n",
       "      <td>22.0</td>\n",
       "      <td>1007.7</td>\n",
       "      <td>1007.1</td>\n",
       "      <td>8.0</td>\n",
       "      <td>NaN</td>\n",
       "      <td>16.9</td>\n",
       "      <td>21.8</td>\n",
       "      <td>No</td>\n",
       "      <td>0.0</td>\n",
       "      <td>No</td>\n",
       "    </tr>\n",
       "    <tr>\n",
       "      <th>1</th>\n",
       "      <td>2008-12-02</td>\n",
       "      <td>Albury</td>\n",
       "      <td>7.4</td>\n",
       "      <td>25.1</td>\n",
       "      <td>0.0</td>\n",
       "      <td>NaN</td>\n",
       "      <td>NaN</td>\n",
       "      <td>WNW</td>\n",
       "      <td>44.0</td>\n",
       "      <td>NNW</td>\n",
       "      <td>...</td>\n",
       "      <td>25.0</td>\n",
       "      <td>1010.6</td>\n",
       "      <td>1007.8</td>\n",
       "      <td>NaN</td>\n",
       "      <td>NaN</td>\n",
       "      <td>17.2</td>\n",
       "      <td>24.3</td>\n",
       "      <td>No</td>\n",
       "      <td>0.0</td>\n",
       "      <td>No</td>\n",
       "    </tr>\n",
       "    <tr>\n",
       "      <th>2</th>\n",
       "      <td>2008-12-03</td>\n",
       "      <td>Albury</td>\n",
       "      <td>12.9</td>\n",
       "      <td>25.7</td>\n",
       "      <td>0.0</td>\n",
       "      <td>NaN</td>\n",
       "      <td>NaN</td>\n",
       "      <td>WSW</td>\n",
       "      <td>46.0</td>\n",
       "      <td>W</td>\n",
       "      <td>...</td>\n",
       "      <td>30.0</td>\n",
       "      <td>1007.6</td>\n",
       "      <td>1008.7</td>\n",
       "      <td>NaN</td>\n",
       "      <td>2.0</td>\n",
       "      <td>21.0</td>\n",
       "      <td>23.2</td>\n",
       "      <td>No</td>\n",
       "      <td>0.0</td>\n",
       "      <td>No</td>\n",
       "    </tr>\n",
       "    <tr>\n",
       "      <th>3</th>\n",
       "      <td>2008-12-04</td>\n",
       "      <td>Albury</td>\n",
       "      <td>9.2</td>\n",
       "      <td>28.0</td>\n",
       "      <td>0.0</td>\n",
       "      <td>NaN</td>\n",
       "      <td>NaN</td>\n",
       "      <td>NE</td>\n",
       "      <td>24.0</td>\n",
       "      <td>SE</td>\n",
       "      <td>...</td>\n",
       "      <td>16.0</td>\n",
       "      <td>1017.6</td>\n",
       "      <td>1012.8</td>\n",
       "      <td>NaN</td>\n",
       "      <td>NaN</td>\n",
       "      <td>18.1</td>\n",
       "      <td>26.5</td>\n",
       "      <td>No</td>\n",
       "      <td>1.0</td>\n",
       "      <td>No</td>\n",
       "    </tr>\n",
       "    <tr>\n",
       "      <th>4</th>\n",
       "      <td>2008-12-05</td>\n",
       "      <td>Albury</td>\n",
       "      <td>17.5</td>\n",
       "      <td>32.3</td>\n",
       "      <td>1.0</td>\n",
       "      <td>NaN</td>\n",
       "      <td>NaN</td>\n",
       "      <td>W</td>\n",
       "      <td>41.0</td>\n",
       "      <td>ENE</td>\n",
       "      <td>...</td>\n",
       "      <td>33.0</td>\n",
       "      <td>1010.8</td>\n",
       "      <td>1006.0</td>\n",
       "      <td>7.0</td>\n",
       "      <td>8.0</td>\n",
       "      <td>17.8</td>\n",
       "      <td>29.7</td>\n",
       "      <td>No</td>\n",
       "      <td>0.2</td>\n",
       "      <td>No</td>\n",
       "    </tr>\n",
       "  </tbody>\n",
       "</table>\n",
       "<p>5 rows × 24 columns</p>\n",
       "</div>"
      ],
      "text/plain": [
       "         Date Location MinTemp MaxTemp Rainfall Evaporation Sunshine  \\\n",
       "0  2008-12-01   Albury    13.4    22.9      0.6         NaN      NaN   \n",
       "1  2008-12-02   Albury     7.4    25.1      0.0         NaN      NaN   \n",
       "2  2008-12-03   Albury    12.9    25.7      0.0         NaN      NaN   \n",
       "3  2008-12-04   Albury     9.2    28.0      0.0         NaN      NaN   \n",
       "4  2008-12-05   Albury    17.5    32.3      1.0         NaN      NaN   \n",
       "\n",
       "  WindGustDir WindGustSpeed WindDir9am  ... Humidity3pm Pressure9am  \\\n",
       "0           W          44.0          W  ...        22.0      1007.7   \n",
       "1         WNW          44.0        NNW  ...        25.0      1010.6   \n",
       "2         WSW          46.0          W  ...        30.0      1007.6   \n",
       "3          NE          24.0         SE  ...        16.0      1017.6   \n",
       "4           W          41.0        ENE  ...        33.0      1010.8   \n",
       "\n",
       "  Pressure3pm Cloud9am Cloud3pm Temp9am Temp3pm RainToday RISK_MM RainTomorrow  \n",
       "0      1007.1      8.0      NaN    16.9    21.8        No     0.0           No  \n",
       "1      1007.8      NaN      NaN    17.2    24.3        No     0.0           No  \n",
       "2      1008.7      NaN      2.0    21.0    23.2        No     0.0           No  \n",
       "3      1012.8      NaN      NaN    18.1    26.5        No     1.0           No  \n",
       "4      1006.0      7.0      8.0    17.8    29.7        No     0.2           No  \n",
       "\n",
       "[5 rows x 24 columns]"
      ]
     },
     "execution_count": 4,
     "metadata": {},
     "output_type": "execute_result"
    }
   ],
   "source": [
    "#Information on the table given as dataset\n",
    "ds.head()"
   ]
  },
  {
   "cell_type": "code",
   "execution_count": 5,
   "metadata": {},
   "outputs": [
    {
     "data": {
      "text/plain": [
       "Sunshine          74425\n",
       "Evaporation       81398\n",
       "Cloud3pm          85147\n",
       "Cloud9am          88584\n",
       "Pressure9am      128227\n",
       "Pressure3pm      128260\n",
       "WindDir9am       132228\n",
       "WindGustDir      132911\n",
       "WindGustSpeed    132971\n",
       "WindDir3pm       138463\n",
       "Humidity3pm      138631\n",
       "Temp3pm          139515\n",
       "WindSpeed3pm     139611\n",
       "Humidity9am      140467\n",
       "RainToday        140835\n",
       "Rainfall         140835\n",
       "WindSpeed9am     140893\n",
       "Temp9am          141337\n",
       "MinTemp          141604\n",
       "MaxTemp          141919\n",
       "Date             142241\n",
       "Location         142241\n",
       "RISK_MM          142241\n",
       "RainTomorrow     142241\n",
       "dtype: int64"
      ]
     },
     "execution_count": 5,
     "metadata": {},
     "output_type": "execute_result"
    }
   ],
   "source": [
    "#we need to sort it to know how many null values each column has:\n",
    "ds.count().sort_values()"
   ]
  },
  {
   "cell_type": "code",
   "execution_count": 6,
   "metadata": {},
   "outputs": [
    {
     "data": {
      "text/plain": [
       "(142241, 19)"
      ]
     },
     "execution_count": 6,
     "metadata": {},
     "output_type": "execute_result"
    }
   ],
   "source": [
    "#Here we drop all those colums which have less than 70% of 142241 rows\n",
    "#That is all columns less than 99569 are dropped\n",
    "#The column 'RISK_MM' can interrupt in identifying the rain tomorrow as it is most probable rain which can occur on next day\n",
    "#It can be true or false as it is just a probability so we drop that column also.\n",
    "ds=ds.drop(columns=['Sunshine','Evaporation','RISK_MM','Cloud3pm','Cloud9am'],axis=1)\n",
    "ds.shape"
   ]
  },
  {
   "cell_type": "code",
   "execution_count": 7,
   "metadata": {},
   "outputs": [],
   "source": [
    "#Hence we have dropped 5 columns.So total columns now are 19.\n",
    "#Now we have 19 columns but still have null data in them."
   ]
  },
  {
   "cell_type": "code",
   "execution_count": 8,
   "metadata": {},
   "outputs": [
    {
     "name": "stdout",
     "output_type": "stream",
     "text": [
      "['MinTemp', 'MaxTemp', 'Rainfall', 'WindGustSpeed', 'WindSpeed9am', 'WindSpeed3pm', 'Humidity9am', 'Humidity3pm', 'Pressure9am', 'Pressure3pm', 'Temp9am', 'Temp3pm']\n",
      "['Date', 'Location', 'WindGustDir', 'WindDir9am', 'WindDir3pm', 'RainToday', 'RainTomorrow']\n"
     ]
    }
   ],
   "source": [
    "#PREPROCESSING STAGE:\n",
    "#The null data in numerical columns is replaced by median.\n",
    "#The categorical data is replaced by required one.\n",
    "num=[]\n",
    "cat=[]\n",
    "def is_number(column_name):\n",
    "    for index,row in ds[column_name].iteritems(): \n",
    "        try:\n",
    "            float(row)   # Type-casting the string to `float`.\n",
    "                       # If string is not a valid `float`, \n",
    "                       # it'll raise `ValueError` exception\n",
    "        except ValueError:\n",
    "            return False\n",
    "        return True\n",
    "for i in ds.columns:\n",
    "    if is_number(str(i)):\n",
    "        num.append(i)\n",
    "    else:\n",
    "        cat.append(i)\n",
    "print(num)\n",
    "print(cat)"
   ]
  },
  {
   "cell_type": "code",
   "execution_count": 9,
   "metadata": {},
   "outputs": [],
   "source": [
    "for i in num:\n",
    "    for index,row in ds[i].iteritems():\n",
    "        if(row=='nan'or row==i or row=='NaN'):\n",
    "            ds[i].loc[index]=0"
   ]
  },
  {
   "cell_type": "code",
   "execution_count": 10,
   "metadata": {},
   "outputs": [
    {
     "name": "stdout",
     "output_type": "stream",
     "text": [
      "{'W': 0, 'WNW': 1, 'WSW': 2, 'NE': 3, 'NNW': 4, 'N': 5, 'NNE': 6, 'SW': 7, 'ENE': 8, 'SSE': 9, 'S': 10, 'NW': 11, 'SE': 12, 'ESE': 13, nan: 14, 'E': 15, 'SSW': 16, 'WindGustDir': 17, 'WindDir9am': 18, 'WindDir3pm': 19}\n"
     ]
    }
   ],
   "source": [
    "#Here we convert the categorical data also into numerical based on dictionary given below\n",
    "d={}\n",
    "x=0\n",
    "for i in cat[2:5]:\n",
    "    for index,row in ds[i].iteritems():\n",
    "        if row not in d:\n",
    "            d[row]=x\n",
    "            x+=1\n",
    "    ds[i]=ds[i].map(d)\n",
    "print(d)"
   ]
  },
  {
   "cell_type": "code",
   "execution_count": 11,
   "metadata": {},
   "outputs": [
    {
     "data": {
      "text/plain": [
       "(142241, 16)"
      ]
     },
     "execution_count": 11,
     "metadata": {},
     "output_type": "execute_result"
    }
   ],
   "source": [
    "#We drop few categorical data as cannot be converted to string and are no use for us and RainToday will specifically mislead the data  \n",
    "ds=ds.drop(columns=['Location', 'Date','RainToday'],axis=1)\n",
    "ds.shape"
   ]
  },
  {
   "cell_type": "code",
   "execution_count": 12,
   "metadata": {},
   "outputs": [],
   "source": [
    "#Now we shuffle and split train and test set as 80% and 20% of the given data\n",
    "train, test = train_test_split(ds, test_size = 0.2, random_state = 123)"
   ]
  },
  {
   "cell_type": "code",
   "execution_count": 13,
   "metadata": {},
   "outputs": [
    {
     "data": {
      "text/html": [
       "<div>\n",
       "<style scoped>\n",
       "    .dataframe tbody tr th:only-of-type {\n",
       "        vertical-align: middle;\n",
       "    }\n",
       "\n",
       "    .dataframe tbody tr th {\n",
       "        vertical-align: top;\n",
       "    }\n",
       "\n",
       "    .dataframe thead th {\n",
       "        text-align: right;\n",
       "    }\n",
       "</style>\n",
       "<table border=\"1\" class=\"dataframe\">\n",
       "  <thead>\n",
       "    <tr style=\"text-align: right;\">\n",
       "      <th></th>\n",
       "      <th>MinTemp</th>\n",
       "      <th>MaxTemp</th>\n",
       "      <th>Rainfall</th>\n",
       "      <th>WindGustDir</th>\n",
       "      <th>WindGustSpeed</th>\n",
       "      <th>WindDir9am</th>\n",
       "      <th>WindDir3pm</th>\n",
       "      <th>WindSpeed9am</th>\n",
       "      <th>WindSpeed3pm</th>\n",
       "      <th>Humidity9am</th>\n",
       "      <th>Humidity3pm</th>\n",
       "      <th>Pressure9am</th>\n",
       "      <th>Pressure3pm</th>\n",
       "      <th>Temp9am</th>\n",
       "      <th>Temp3pm</th>\n",
       "      <th>RainTomorrow</th>\n",
       "    </tr>\n",
       "  </thead>\n",
       "  <tbody>\n",
       "    <tr>\n",
       "      <th>7301</th>\n",
       "      <td>16.6</td>\n",
       "      <td>22.8</td>\n",
       "      <td>0.0</td>\n",
       "      <td>16</td>\n",
       "      <td>37.0</td>\n",
       "      <td>16</td>\n",
       "      <td>7</td>\n",
       "      <td>17.0</td>\n",
       "      <td>22.0</td>\n",
       "      <td>NaN</td>\n",
       "      <td>22.0</td>\n",
       "      <td>1012.8</td>\n",
       "      <td>1013.0</td>\n",
       "      <td>17.3</td>\n",
       "      <td>20.2</td>\n",
       "      <td>No</td>\n",
       "    </tr>\n",
       "    <tr>\n",
       "      <th>21097</th>\n",
       "      <td>17.9</td>\n",
       "      <td>22.3</td>\n",
       "      <td>0.4</td>\n",
       "      <td>13</td>\n",
       "      <td>44.0</td>\n",
       "      <td>13</td>\n",
       "      <td>13</td>\n",
       "      <td>24.0</td>\n",
       "      <td>24.0</td>\n",
       "      <td>54.0</td>\n",
       "      <td>58.0</td>\n",
       "      <td>1023.7</td>\n",
       "      <td>1021.9</td>\n",
       "      <td>20.3</td>\n",
       "      <td>20.8</td>\n",
       "      <td>No</td>\n",
       "    </tr>\n",
       "    <tr>\n",
       "      <th>107312</th>\n",
       "      <td>12.8</td>\n",
       "      <td>20.1</td>\n",
       "      <td>0.0</td>\n",
       "      <td>14</td>\n",
       "      <td>NaN</td>\n",
       "      <td>4</td>\n",
       "      <td>1</td>\n",
       "      <td>13.0</td>\n",
       "      <td>19.0</td>\n",
       "      <td>51.0</td>\n",
       "      <td>92.0</td>\n",
       "      <td>1011.8</td>\n",
       "      <td>1008.3</td>\n",
       "      <td>15.7</td>\n",
       "      <td>14.4</td>\n",
       "      <td>Yes</td>\n",
       "    </tr>\n",
       "    <tr>\n",
       "      <th>124067</th>\n",
       "      <td>7.9</td>\n",
       "      <td>13.2</td>\n",
       "      <td>12.6</td>\n",
       "      <td>7</td>\n",
       "      <td>69.0</td>\n",
       "      <td>16</td>\n",
       "      <td>7</td>\n",
       "      <td>26.0</td>\n",
       "      <td>17.0</td>\n",
       "      <td>74.0</td>\n",
       "      <td>58.0</td>\n",
       "      <td>1015.0</td>\n",
       "      <td>1016.5</td>\n",
       "      <td>9.8</td>\n",
       "      <td>12.0</td>\n",
       "      <td>No</td>\n",
       "    </tr>\n",
       "    <tr>\n",
       "      <th>68666</th>\n",
       "      <td>14.3</td>\n",
       "      <td>20.9</td>\n",
       "      <td>0.0</td>\n",
       "      <td>3</td>\n",
       "      <td>31.0</td>\n",
       "      <td>15</td>\n",
       "      <td>6</td>\n",
       "      <td>11.0</td>\n",
       "      <td>22.0</td>\n",
       "      <td>77.0</td>\n",
       "      <td>83.0</td>\n",
       "      <td>1013.8</td>\n",
       "      <td>1010.5</td>\n",
       "      <td>17.2</td>\n",
       "      <td>19.5</td>\n",
       "      <td>Yes</td>\n",
       "    </tr>\n",
       "  </tbody>\n",
       "</table>\n",
       "</div>"
      ],
      "text/plain": [
       "       MinTemp MaxTemp Rainfall  WindGustDir WindGustSpeed  WindDir9am  \\\n",
       "7301      16.6    22.8      0.0           16          37.0          16   \n",
       "21097     17.9    22.3      0.4           13          44.0          13   \n",
       "107312    12.8    20.1      0.0           14           NaN           4   \n",
       "124067     7.9    13.2     12.6            7          69.0          16   \n",
       "68666     14.3    20.9      0.0            3          31.0          15   \n",
       "\n",
       "        WindDir3pm WindSpeed9am WindSpeed3pm Humidity9am Humidity3pm  \\\n",
       "7301             7         17.0         22.0         NaN        22.0   \n",
       "21097           13         24.0         24.0        54.0        58.0   \n",
       "107312           1         13.0         19.0        51.0        92.0   \n",
       "124067           7         26.0         17.0        74.0        58.0   \n",
       "68666            6         11.0         22.0        77.0        83.0   \n",
       "\n",
       "       Pressure9am Pressure3pm Temp9am Temp3pm RainTomorrow  \n",
       "7301        1012.8      1013.0    17.3    20.2           No  \n",
       "21097       1023.7      1021.9    20.3    20.8           No  \n",
       "107312      1011.8      1008.3    15.7    14.4          Yes  \n",
       "124067      1015.0      1016.5     9.8    12.0           No  \n",
       "68666       1013.8      1010.5    17.2    19.5          Yes  "
      ]
     },
     "execution_count": 13,
     "metadata": {},
     "output_type": "execute_result"
    }
   ],
   "source": [
    "#Few features of train set\n",
    "train.head()"
   ]
  },
  {
   "cell_type": "code",
   "execution_count": 14,
   "metadata": {},
   "outputs": [
    {
     "data": {
      "text/html": [
       "<div>\n",
       "<style scoped>\n",
       "    .dataframe tbody tr th:only-of-type {\n",
       "        vertical-align: middle;\n",
       "    }\n",
       "\n",
       "    .dataframe tbody tr th {\n",
       "        vertical-align: top;\n",
       "    }\n",
       "\n",
       "    .dataframe thead th {\n",
       "        text-align: right;\n",
       "    }\n",
       "</style>\n",
       "<table border=\"1\" class=\"dataframe\">\n",
       "  <thead>\n",
       "    <tr style=\"text-align: right;\">\n",
       "      <th></th>\n",
       "      <th>MinTemp</th>\n",
       "      <th>MaxTemp</th>\n",
       "      <th>Rainfall</th>\n",
       "      <th>WindGustDir</th>\n",
       "      <th>WindGustSpeed</th>\n",
       "      <th>WindDir9am</th>\n",
       "      <th>WindDir3pm</th>\n",
       "      <th>WindSpeed9am</th>\n",
       "      <th>WindSpeed3pm</th>\n",
       "      <th>Humidity9am</th>\n",
       "      <th>Humidity3pm</th>\n",
       "      <th>Pressure9am</th>\n",
       "      <th>Pressure3pm</th>\n",
       "      <th>Temp9am</th>\n",
       "      <th>Temp3pm</th>\n",
       "      <th>RainTomorrow</th>\n",
       "    </tr>\n",
       "  </thead>\n",
       "  <tbody>\n",
       "    <tr>\n",
       "      <th>30929</th>\n",
       "      <td>20.8</td>\n",
       "      <td>26.9</td>\n",
       "      <td>29.6</td>\n",
       "      <td>15</td>\n",
       "      <td>26.0</td>\n",
       "      <td>9</td>\n",
       "      <td>15</td>\n",
       "      <td>13.0</td>\n",
       "      <td>15.0</td>\n",
       "      <td>90.0</td>\n",
       "      <td>68.0</td>\n",
       "      <td>1014.0</td>\n",
       "      <td>1013.4</td>\n",
       "      <td>22.5</td>\n",
       "      <td>26.4</td>\n",
       "      <td>Yes</td>\n",
       "    </tr>\n",
       "    <tr>\n",
       "      <th>120054</th>\n",
       "      <td>22.6</td>\n",
       "      <td>29.0</td>\n",
       "      <td>0.0</td>\n",
       "      <td>7</td>\n",
       "      <td>35.0</td>\n",
       "      <td>12</td>\n",
       "      <td>7</td>\n",
       "      <td>13.0</td>\n",
       "      <td>20.0</td>\n",
       "      <td>63.0</td>\n",
       "      <td>51.0</td>\n",
       "      <td>1016.8</td>\n",
       "      <td>1015.1</td>\n",
       "      <td>23.6</td>\n",
       "      <td>25.4</td>\n",
       "      <td>No</td>\n",
       "    </tr>\n",
       "    <tr>\n",
       "      <th>57991</th>\n",
       "      <td>-0.8</td>\n",
       "      <td>11.5</td>\n",
       "      <td>1.4</td>\n",
       "      <td>1</td>\n",
       "      <td>35.0</td>\n",
       "      <td>0</td>\n",
       "      <td>1</td>\n",
       "      <td>11.0</td>\n",
       "      <td>15.0</td>\n",
       "      <td>88.0</td>\n",
       "      <td>64.0</td>\n",
       "      <td>1024.1</td>\n",
       "      <td>1023.9</td>\n",
       "      <td>3.8</td>\n",
       "      <td>11.2</td>\n",
       "      <td>No</td>\n",
       "    </tr>\n",
       "    <tr>\n",
       "      <th>37904</th>\n",
       "      <td>10.2</td>\n",
       "      <td>33.5</td>\n",
       "      <td>0.0</td>\n",
       "      <td>2</td>\n",
       "      <td>26.0</td>\n",
       "      <td>15</td>\n",
       "      <td>1</td>\n",
       "      <td>15.0</td>\n",
       "      <td>9.0</td>\n",
       "      <td>48.0</td>\n",
       "      <td>7.0</td>\n",
       "      <td>1015.4</td>\n",
       "      <td>1011.4</td>\n",
       "      <td>21.6</td>\n",
       "      <td>31.9</td>\n",
       "      <td>No</td>\n",
       "    </tr>\n",
       "    <tr>\n",
       "      <th>41864</th>\n",
       "      <td>16.0</td>\n",
       "      <td>22.7</td>\n",
       "      <td>0.0</td>\n",
       "      <td>12</td>\n",
       "      <td>19.0</td>\n",
       "      <td>9</td>\n",
       "      <td>13</td>\n",
       "      <td>9.0</td>\n",
       "      <td>11.0</td>\n",
       "      <td>76.0</td>\n",
       "      <td>75.0</td>\n",
       "      <td>1028.2</td>\n",
       "      <td>1026.4</td>\n",
       "      <td>20.5</td>\n",
       "      <td>22.3</td>\n",
       "      <td>No</td>\n",
       "    </tr>\n",
       "  </tbody>\n",
       "</table>\n",
       "</div>"
      ],
      "text/plain": [
       "       MinTemp MaxTemp Rainfall  WindGustDir WindGustSpeed  WindDir9am  \\\n",
       "30929     20.8    26.9     29.6           15          26.0           9   \n",
       "120054    22.6    29.0      0.0            7          35.0          12   \n",
       "57991     -0.8    11.5      1.4            1          35.0           0   \n",
       "37904     10.2    33.5      0.0            2          26.0          15   \n",
       "41864     16.0    22.7      0.0           12          19.0           9   \n",
       "\n",
       "        WindDir3pm WindSpeed9am WindSpeed3pm Humidity9am Humidity3pm  \\\n",
       "30929           15         13.0         15.0        90.0        68.0   \n",
       "120054           7         13.0         20.0        63.0        51.0   \n",
       "57991            1         11.0         15.0        88.0        64.0   \n",
       "37904            1         15.0          9.0        48.0         7.0   \n",
       "41864           13          9.0         11.0        76.0        75.0   \n",
       "\n",
       "       Pressure9am Pressure3pm Temp9am Temp3pm RainTomorrow  \n",
       "30929       1014.0      1013.4    22.5    26.4          Yes  \n",
       "120054      1016.8      1015.1    23.6    25.4           No  \n",
       "57991       1024.1      1023.9     3.8    11.2           No  \n",
       "37904       1015.4      1011.4    21.6    31.9           No  \n",
       "41864       1028.2      1026.4    20.5    22.3           No  "
      ]
     },
     "execution_count": 14,
     "metadata": {},
     "output_type": "execute_result"
    }
   ],
   "source": [
    "#Few features of test set\n",
    "test.head()"
   ]
  },
  {
   "cell_type": "code",
   "execution_count": 15,
   "metadata": {},
   "outputs": [],
   "source": [
    "#Now we create feature set and target to train model.\n",
    "x_train=train.drop('RainTomorrow',axis=1)\n",
    "y=train['RainTomorrow'].copy()\n",
    "y_train=y.map({'Yes':1,'No':0,'RainTomorrow':0})"
   ]
  },
  {
   "cell_type": "code",
   "execution_count": 16,
   "metadata": {},
   "outputs": [],
   "source": [
    "#Same thing for test model \n",
    "x_test=test.drop('RainTomorrow',axis=1)\n",
    "z=test['RainTomorrow'].copy()\n",
    "y_test=z.map({'Yes':1,'No':0,'RainTomorrow':0})"
   ]
  },
  {
   "cell_type": "code",
   "execution_count": 17,
   "metadata": {},
   "outputs": [],
   "source": [
    "#No.of columns\n",
    "n=x_train.shape[1]\n",
    "y_train=to_categorical(y_train)\n",
    "y_test=to_categorical(y_test)"
   ]
  },
  {
   "cell_type": "code",
   "execution_count": 18,
   "metadata": {},
   "outputs": [
    {
     "name": "stderr",
     "output_type": "stream",
     "text": [
      "WARNING: Logging before flag parsing goes to stderr.\n",
      "W0719 10:53:22.873744 11072 deprecation.py:506] From d:\\anaconda\\envs\\tensorflow\\lib\\site-packages\\tensorflow\\python\\ops\\init_ops.py:1251: calling VarianceScaling.__init__ (from tensorflow.python.ops.init_ops) with dtype is deprecated and will be removed in a future version.\n",
      "Instructions for updating:\n",
      "Call initializer instance with the dtype argument instead of passing it to the constructor\n"
     ]
    },
    {
     "data": {
      "text/plain": [
       "\"\\nmodel=keras.Sequential([\\n    keras.layers.Dense(60, input_dim=15, kernel_initializer='normal', activation='relu'),\\n    keras.layers.Dense(2, kernel_initializer='normal', activation='sigmoid')\\n])\\n\""
      ]
     },
     "execution_count": 18,
     "metadata": {},
     "output_type": "execute_result"
    }
   ],
   "source": [
    "#Now we BUILD NEURAL NETWORK(both of model works and gives almostsame accracy)\n",
    "model=keras.Sequential([\n",
    "    keras.layers.Dense(10,activation=tf.nn.relu,input_shape=(n,)),\n",
    "    keras.layers.Dense(10,activation=tf.nn.relu),\n",
    "    keras.layers.Dense(2,activation=tf.nn.softmax)\n",
    "])\n",
    "'''\n",
    "           (or)\n",
    "model=keras.Sequential([\n",
    "    keras.layers.Dense(60, input_dim=15, kernel_initializer='normal', activation='relu'),\n",
    "    keras.layers.Dense(2, kernel_initializer='normal', activation='sigmoid')\n",
    "])\n",
    "'''"
   ]
  },
  {
   "cell_type": "code",
   "execution_count": 19,
   "metadata": {},
   "outputs": [],
   "source": [
    "#COMPILATION code:\n",
    "model.compile(optimizer='adam',loss='categorical_crossentropy',metrics=['accuracy'])"
   ]
  },
  {
   "cell_type": "code",
   "execution_count": 20,
   "metadata": {},
   "outputs": [
    {
     "name": "stdout",
     "output_type": "stream",
     "text": [
      "Epoch 1/5\n",
      "113792/113792 [==============================] - 9s 76us/sample - loss: nan - acc: 0.7752\n",
      "Epoch 2/5\n",
      "113792/113792 [==============================] - 8s 72us/sample - loss: nan - acc: 0.7752\n",
      "Epoch 3/5\n",
      "113792/113792 [==============================] - 8s 73us/sample - loss: nan - acc: 0.7752\n",
      "Epoch 4/5\n",
      "113792/113792 [==============================] - 8s 74us/sample - loss: nan - acc: 0.7752\n",
      "Epoch 5/5\n",
      "113792/113792 [==============================] - 8s 74us/sample - loss: nan - acc: 0.7752\n"
     ]
    },
    {
     "data": {
      "text/plain": [
       "<tensorflow.python.keras.callbacks.History at 0x2461fc10438>"
      ]
     },
     "execution_count": 20,
     "metadata": {},
     "output_type": "execute_result"
    }
   ],
   "source": [
    "#TRAINING the model:\n",
    "model.fit(x_train,y_train,epochs=5)"
   ]
  },
  {
   "cell_type": "code",
   "execution_count": 21,
   "metadata": {},
   "outputs": [
    {
     "name": "stdout",
     "output_type": "stream",
     "text": [
      "28449/28449 [==============================] - 1s 39us/sample - loss: nan - acc: 0.7785\n",
      "Accuracy of the model: 77.84807682037354\n"
     ]
    }
   ],
   "source": [
    "#TESTING THE MODEL:\n",
    "test_loss,test_acc=model.evaluate(x_test,y_test)\n",
    "print(\"Accuracy of the model:\",(test_acc*100))"
   ]
  }
 ],
 "metadata": {
  "kernelspec": {
   "display_name": "Python 3",
   "language": "python",
   "name": "python3"
  },
  "language_info": {
   "codemirror_mode": {
    "name": "ipython",
    "version": 3
   },
   "file_extension": ".py",
   "mimetype": "text/x-python",
   "name": "python",
   "nbconvert_exporter": "python",
   "pygments_lexer": "ipython3",
   "version": "3.6.8"
  }
 },
 "nbformat": 4,
 "nbformat_minor": 2
}
